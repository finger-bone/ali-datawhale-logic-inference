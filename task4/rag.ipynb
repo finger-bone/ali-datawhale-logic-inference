{
 "cells": [
  {
   "cell_type": "code",
   "execution_count": 1,
   "metadata": {},
   "outputs": [],
   "source": [
    "from datasets import load_dataset\n",
    "from datasets import Dataset\n",
    "from langchain_core.documents import Document\n",
    "from langchain_chroma import Chroma\n",
    "from langchain_huggingface import HuggingFaceEmbeddings"
   ]
  },
  {
   "cell_type": "code",
   "execution_count": 2,
   "metadata": {},
   "outputs": [],
   "source": [
    "embedding_path = \"../Dmeta-embedding-zh\""
   ]
  },
  {
   "cell_type": "code",
   "execution_count": 3,
   "metadata": {},
   "outputs": [],
   "source": [
    "def get_dataset() -> Dataset:\n",
    "    train_dataset = Dataset.load_from_disk(\"./train_dataset\")\n",
    "    return train_dataset"
   ]
  },
  {
   "cell_type": "code",
   "execution_count": 4,
   "metadata": {},
   "outputs": [],
   "source": [
    "def to_doc(row: dict) -> Document:\n",
    "    return Document(\n",
    "        row[\"question\"], metadata=row\n",
    "    )"
   ]
  },
  {
   "cell_type": "code",
   "execution_count": 5,
   "metadata": {},
   "outputs": [],
   "source": [
    "def get_embedding() -> HuggingFaceEmbeddings:\n",
    "    return HuggingFaceEmbeddings(model_name=embedding_path)"
   ]
  },
  {
   "cell_type": "code",
   "execution_count": 6,
   "metadata": {},
   "outputs": [],
   "source": [
    "def get_db() -> Chroma:\n",
    "    db = Chroma.from_documents(\n",
    "        [to_doc(row) for row in get_dataset()],\n",
    "        get_embedding()\n",
    "    )\n",
    "    return db"
   ]
  },
  {
   "cell_type": "code",
   "execution_count": 7,
   "metadata": {},
   "outputs": [],
   "source": [
    "db = get_db()"
   ]
  },
  {
   "cell_type": "code",
   "execution_count": 8,
   "metadata": {},
   "outputs": [
    {
     "data": {
      "text/plain": [
       "[Document(metadata={'answer': 'A', 'options': 'A: 新药\\nB: 阿司匹林\\nC: 抗腹泻药\\nD: 除痰药', 'problem': '有以下药品及其对应的治愈和加重某些症状的信息：\\n\\n- 阿司匹林可以治愈头痛、中度疼痛和中度关节炎。\\n- 阿司匹林与可待因的组合物可以治愈严重疼痛。\\n- 止咳药可以治愈咳嗽。\\n- 疼痛消失药可以治愈严重疼痛。\\n- 抗腹泻药可以治愈腹泻。\\n- 除痰药可以治愈咳嗽和鼻塞。\\n- 青霉素可以治愈肺炎。\\n- 消腹泻与止吐药可以治愈腹泻和恶心。\\n- 新药可以治愈头痛和中度疼痛。\\n- 鼻塞加治药可以治愈鼻塞。\\n\\n同时，以下药品对某些病状有副作用：\\n- 阿司匹林可能加重哮喘和消化性溃疡。\\n- 抗腹泻药可能加重发热。\\n- 除痰药可能加重高血压、心脏病、糖尿病和青光眼。\\n- 青霉素可能加重哮喘。\\n- 消腹泻与止吐药可能加重糖尿病和发热。\\n\\n阿里抱怨头痛并患有消化性溃疡。考虑这些信息，请回答以下选择题：', 'question': '选择题 1：\\n阿里应该服用哪种药物？', 'reasoning': '要解答这个问题，我们首先要了解题目中的前提条件以及各选项药物的特点。题目中提到阿里抱怨头痛并且患有消化性溃疡。我们需要找到一种药物既能治疗阿里当前的症状（头痛），又能避免加重他的消化性溃疡症状。\\n\\n首先，根据题目信息，我们可以列出以下几个关键点：\\n1. **阿司匹林**：可以治愈头痛、中度疼痛和中度关节炎，但可能会加重哮喘和消化性溃疡。\\n2. **新药**：可以治愈头痛和中度疼痛，且没有提及会加重任何已知病症。\\n3. **抗腹泻药**：可能会加重发热，并不适用于治疗头痛或消化性溃疡。\\n4. **除痰药**：可能会加重哮喘、高血压、心脏病、糖尿病和青光眼，不适用于治疗头痛或消化性溃疡。\\n\\n根据这些信息，我们可以逐步分析排除选项：\\n- **选项B（阿司匹林）**：虽然可以治疗头痛，但它可能会加重阿里已有的消化性溃疡症状，因此不是最佳选择。\\n- **选项C（抗腹泻药）**：主要针对腹泻，对于治疗头痛无用，并且可能会加重发热，与题目条件不符。\\n- **选项D（除痰药）**：可能会加重阿里已有的哮喘症状（由于消化性溃疡与哮喘不同类疾病，此处考虑的是题目中明确指出的副作用），且其加重的其他病症（高血压、心脏病、糖尿病和青光眼）与阿里当前状况无关，因此不是最佳选择。\\n- **选项A（新药）**：新药可以治愈头痛且没有提及会加重消化性溃疡或其他病症，因此是唯一符合阿里需求的药物。\\n\\n综上所述，考虑到阿里需要治疗头痛且避免加重消化性溃疡的情况，**选项A（新药）**是最佳选择。'}, page_content='选择题 1：\\n阿里应该服用哪种药物？'),\n",
       " Document(metadata={'answer': 'A', 'options': 'A: 是\\nB: 否\\nC: 无法确定\\nD: 以上都不对', 'problem': '有一个关于人物出生日期的数据库，包含以下信息：\\n\\n1. Jan 出生于1977年3月20日。\\n2. Jeroen 出生于1992年2月2日。\\n3. Joris 出生于1995年3月17日。\\n4. Jelle 出生于2004年1月1日。\\n5. Jesus 出生于0年12月24日。\\n6. Joop 出生于1989年4月30日。\\n7. Jannecke 出生于1993年3月17日。\\n8. Jaap 出生于1995年11月16日。\\n\\n根据这些信息，回答以下选择题：', 'question': '选择题 4：\\nJeroen 比 Jelle 年长吗？', 'reasoning': '要解答这个问题，首先需要了解每个人物的出生年份。题目提供了每个人物的出生年份，因此我们可以比较 Jeroen 和 Jelle 的年龄。\\n\\n1. **找出 Jeroen 的出生年份**：根据信息 2，Jeroen 出生于1992年。\\n2. **找出 Jelle 的出生年份**：根据信息 4，Jelle 出生于2004年。\\n\\n接下来，我们需要比较他们的年龄。由于年龄是基于出生年份计算的，我们可以这样计算：\\n\\n- **Jeroen 的年龄**：当前年份 - 1992 年 = 当前年龄。因为我们没有具体年份，我们假设问题是在一个给定的年份下进行的讨论，通常在逻辑问题中，我们不需要知道具体的年份。\\n- **Jelle 的年龄**：当前年份 - 2004 年 = 当前年龄。同样地，我们不需要具体的年份来进行比较。\\n\\n现在，我们比较两者的年龄差：\\n\\n- **年龄差**：如果 Jeroen 的年龄减去 Jelle 的年龄为负数或零，则 Jelle 更年轻；如果是正数，则 Jeroen 更年轻。\\n\\n由于 Jeroen 出生于1992年，而 Jelle 出生于2004年，我们可以推断出：\\n\\n- **Jeroen 的年龄** > **Jelle 的年龄**\\n\\n因此，Jeroen 比 Jelle 年长。\\n\\n所以正确答案是 A: 是。'}, page_content='选择题 4：\\nJeroen 比 Jelle 年长吗？'),\n",
       " Document(metadata={'answer': 'B', 'options': 'A: 是\\nB: 否', 'problem': '有以下药品及其对应的治愈和加重某些症状的信息：\\n\\n- 阿司匹林可以治愈头痛、中度疼痛和中度关节炎。\\n- 阿司匹林与可待因的组合物可以治愈严重疼痛。\\n- 止咳药可以治愈咳嗽。\\n- 疼痛消失药可以治愈严重疼痛。\\n- 抗腹泻药可以治愈腹泻。\\n- 除痰药可以治愈咳嗽和鼻塞。\\n- 青霉素可以治愈肺炎。\\n- 消腹泻与止吐药可以治愈腹泻和恶心。\\n- 新药可以治愈头痛和中度疼痛。\\n- 鼻塞加治药可以治愈鼻塞。\\n\\n同时，以下药品对某些病状有副作用：\\n- 阿司匹林可能加重哮喘和消化性溃疡。\\n- 抗腹泻药可能加重发热。\\n- 除痰药可能加重高血压、心脏病、糖尿病和青光眼。\\n- 青霉素可能加重哮喘。\\n- 消腹泻与止吐药可能加重糖尿病和发热。\\n\\n阿里抱怨头痛并患有消化性溃疡。考虑这些信息，请回答以下选择题：', 'question': '选择题 2：\\n阿里是否应该服用阿司匹林？', 'reasoning': '要解答这个问题，我们首先要分析给定的信息，找出与阿里情况相关联的事实，然后根据这些事实进行逻辑推理。\\n\\n1. **了解阿里的情况**：阿里抱怨头痛并患有消化性溃疡。\\n\\n2. **分析阿司匹林的信息**：阿司匹林可以治愈头痛、中度疼痛和中度关节炎。\\n\\n3. **评估阿司匹林对消化性溃疡的影响**：阿司匹林可能加重消化性溃疡。\\n\\n基于上述信息，我们可以进行如下逻辑推理：\\n\\n- 阿里患有消化性溃疡。\\n- 阿司匹林可能加重消化性溃疡。\\n\\n由于阿司匹林能够治疗头痛（阿里当前的症状），但同时也可能导致消化性溃疡的恶化，因此在决定是否让阿里服用阿司匹林时，需要权衡治疗头痛的益处与可能加重消化性溃疡的风险。\\n\\n根据闭世界假设（即未观测事实都为假），如果阿司匹林在其他情况下对消化性溃疡无负面影响，则其对阿里个人的潜在风险是未知的。然而，鉴于阿司匹林可能加重消化性溃疡这一事实，没有额外信息表明这种加重是可接受的风险或有其他措施可以有效降低这种风险，因此，从安全性和避免可能的副作用考虑，答案应该是：\\n\\n**B: 否**\\n\\n阿里不应该服用阿司匹林，以避免可能加重消化性溃疡的风险。'}, page_content='选择题 2：\\n阿里是否应该服用阿司匹林？'),\n",
       " Document(metadata={'answer': 'A', 'options': 'A: Kirke\\nB: Conllins\\nC: Juniper\\nD: 无法确定', 'problem': '在一个大学里，有几名学生分别学习不同的课程，并有几名教授教授这些课程。以下是每个人所关联的课程的信息：\\n\\n- Charlie 和 Olivia 学习 csc135。\\n- Jack 学习 csc131。\\n- Arthur 学习 csc134。\\n- Kirke 教授 csc135。\\n- Conllins 教授 csc131 和 csc171。\\n- Juniper 教授 csc134。\\n\\n根据上述信息，回答以下选择题：', 'question': '选择题 1：\\nOlivia 的教授是谁？', 'reasoning': '要解答这个问题，我们可以根据题目提供的信息进行逻辑推理。首先，我们来看一下关于Olivia和她学习的课程的信息：\\n\\n- Charlie 和 Olivia 学习 csc135。\\n\\n从这个信息中，我们知道Olivia学习csc135这门课程。接着，我们需要找出教授csc135这门课程的教授是谁。根据题目信息：\\n\\n- Kirke 教授 csc135。\\n\\n由于只有Kirke教授了csc135这门课程，因此可以得出结论：Olivia的教授是Kirke。因此，正确答案是 A: Kirke。\\n\\n总结推理过程如下：\\n\\n1. 从Charlie和Olivia学习csc135的信息出发。\\n2. 查找教授csc135的教授，题目信息表明Kirke教授了csc135。\\n3. 因此，Olivia的教授是Kirke。\\n\\n这就是为什么答案是A: Kirke的原因。'}, page_content='选择题 1：\\nOlivia 的教授是谁？')]"
      ]
     },
     "execution_count": 8,
     "metadata": {},
     "output_type": "execute_result"
    }
   ],
   "source": [
    "db.similarity_search(\"你好\", k=2)"
   ]
  },
  {
   "cell_type": "code",
   "execution_count": null,
   "metadata": {},
   "outputs": [],
   "source": []
  }
 ],
 "metadata": {
  "kernelspec": {
   "display_name": "default",
   "language": "python",
   "name": "python3"
  },
  "language_info": {
   "codemirror_mode": {
    "name": "ipython",
    "version": 3
   },
   "file_extension": ".py",
   "mimetype": "text/x-python",
   "name": "python",
   "nbconvert_exporter": "python",
   "pygments_lexer": "ipython3",
   "version": "3.12.4"
  }
 },
 "nbformat": 4,
 "nbformat_minor": 2
}
