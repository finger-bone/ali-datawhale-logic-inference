{
 "cells": [
  {
   "cell_type": "code",
   "execution_count": 1,
   "metadata": {},
   "outputs": [],
   "source": [
    "from langchain_core.prompts import PromptTemplate\n",
    "from langchain_huggingface import HuggingFacePipeline\n",
    "from transformers import pipeline\n",
    "import torch\n",
    "from transformers import TextGenerationPipeline\n",
    "from tqdm.notebook import tqdm\n",
    "import os\n",
    "from dataclasses import dataclass, field\n",
    "from langchain.chains.base import Chain\n",
    "from datasets import Dataset\n",
    "from trl.trainer import ConstantLengthDataset\n",
    "from peft import LoraConfig\n",
    "from transformers import DataCollatorForLanguageModeling\n",
    "from trl.trainer import SFTTrainer, SFTConfig\n",
    "from transformers import Qwen2ForCausalLM, Qwen2TokenizerFast"
   ]
  },
  {
   "cell_type": "code",
   "execution_count": 2,
   "metadata": {},
   "outputs": [
    {
     "data": {
      "text/plain": [
       "True"
      ]
     },
     "execution_count": 2,
     "metadata": {},
     "output_type": "execute_result"
    }
   ],
   "source": [
    "from dotenv import load_dotenv\n",
    "load_dotenv(\"../.env\")"
   ]
  },
  {
   "cell_type": "code",
   "execution_count": 3,
   "metadata": {},
   "outputs": [],
   "source": [
    "def format_options(options):\n",
    "    return '\\n'.join(\n",
    "        [\n",
    "            f'{chr(ord(\"A\") + i)}: {option}'\n",
    "            for i, option in enumerate(options)\n",
    "        ]\n",
    "    )"
   ]
  },
  {
   "cell_type": "code",
   "execution_count": 4,
   "metadata": {},
   "outputs": [],
   "source": [
    "@dataclass\n",
    "class QuestionItem:\n",
    "    question: str\n",
    "    options: list[str]\n",
    "    reasoning: str | None = field(default=None)\n",
    "    answer: str | None = field(default=None)\n",
    "\n",
    "@dataclass\n",
    "class Entry:\n",
    "    problem: str = field(default=\"\")\n",
    "    questions: list[QuestionItem] = field(default_factory=list)"
   ]
  },
  {
   "cell_type": "code",
   "execution_count": 5,
   "metadata": {},
   "outputs": [],
   "source": [
    "def parse_file(file_path: str) -> list[Entry]:\n",
    "    with open(file_path, \"r\") as f:\n",
    "        lines = f.readlines()\n",
    "    entries = []\n",
    "    import json\n",
    "    for line in lines:\n",
    "        entry = json.loads(line)\n",
    "        questions = []\n",
    "        for question in entry[\"questions\"]:\n",
    "            questions.append(QuestionItem(**question))\n",
    "        entries.append(Entry(problem=entry[\"problem\"], questions=questions))\n",
    "    return entries"
   ]
  },
  {
   "cell_type": "code",
   "execution_count": 6,
   "metadata": {},
   "outputs": [],
   "source": [
    "from concurrent.futures import ThreadPoolExecutor"
   ]
  },
  {
   "cell_type": "code",
   "execution_count": 7,
   "metadata": {},
   "outputs": [],
   "source": [
    "def generate_reasoning_inplace(entries: list[Entry]) -> None:\n",
    "    template = \"\"\"你是一个逻辑推理专家，擅长解决逻辑推理问题。以下是一个逻辑推理的题目，形式为单项选择题。所有的问题都是（close-world assumption）闭世界假设，即未观测事实都为假。每个问题都保证能通过一系列基于形式逻辑的推理（包括同一律，矛盾律，排中律的使用等）得到确定的唯一答案。我会向你提供答案，而你要给出逐步的解析来教会我如何得到答案。我是一个小学生，所以每一步的推理不要太复杂。\n",
    "{problem}\n",
    "\n",
    "### 问题\n",
    "{question}\n",
    "{options}\n",
    "\n",
    "### 答案\n",
    "{answer}\n",
    "\n",
    "### 分析过程\"\"\"\n",
    "    import time\n",
    "    import qianfan\n",
    "    client = qianfan.ChatCompletion(model=\"Qianfan-Chinese-Llama-2-13B\")\n",
    "    progress_q = tqdm(total=sum([len(entry.questions) for entry in entries]))\n",
    "    import re\n",
    "    answer_regex = re.compile(r\"答案.*?([A-Z])\")\n",
    "    def process_question(entry, question):\n",
    "        if question.reasoning is not None:\n",
    "            matches = answer_regex.findall(question.reasoning)\n",
    "            answer = matches[-1] if len(matches) > 0 else None\n",
    "            if answer == None:\n",
    "                print(f\"答案未找到: {question.reasoning}\")\n",
    "                # with open(\"./a.txt\", \"a\") as f:\n",
    "                #     f.write(\"1\\n\")\n",
    "                #     f.write(question.reasoning)\n",
    "                # progress_q.update(1)\n",
    "                # return\n",
    "            if answer != question.answer:\n",
    "                print(f\"答案不匹配: {answer} != {question.answer}\")\n",
    "            else:\n",
    "                progress_q.update(1)\n",
    "                return\n",
    "        max_retries = 3\n",
    "        for attempt in range(max_retries):\n",
    "            try:\n",
    "                reasoning_prompt = template.format(**{\n",
    "                    \"problem\": entry.problem,\n",
    "                    \"question\": question.question,\n",
    "                    \"options\": format_options(question.options),\n",
    "                    \"answer\": question.answer\n",
    "                })\n",
    "                from qianfan import QfResponse\n",
    "                resp = client.do([{\n",
    "                    \"role\": \"user\",\n",
    "                    \"content\": reasoning_prompt\n",
    "                }])\n",
    "                question.reasoning = resp.body[\"result\"]\n",
    "                # 答案是 [A-Z]\n",
    "                import re\n",
    "                matches = answer_regex.findall(question.reasoning)\n",
    "                answer = matches[-1] if len(matches) > 0 else None \n",
    "                if answer is None:\n",
    "                    print(f\"答案未找到: {question.reasoning}\")\n",
    "                    continue\n",
    "                if answer != question.answer:\n",
    "                    print(f\"答案不匹配: {answer} != {question.answer}\")\n",
    "                    # Retry\n",
    "                    continue\n",
    "                with open(\"reasoning.txt\", \"a\") as f:\n",
    "                    f.write(f\"{reasoning_prompt}\\n\\n{question.reasoning}\\n\\n\")\n",
    "                break  # Exit the loop if successful\n",
    "            except Exception as e:\n",
    "                if attempt < max_retries - 1:\n",
    "                    time.sleep(1)  # Optional: wait a bit before retrying\n",
    "                else:\n",
    "                    print(f\"Failed to process question.\")\n",
    "                    print(str(e))\n",
    "        progress_q.update(1)\n",
    "\n",
    "    with ThreadPoolExecutor(max_workers=1) as executor:\n",
    "        futures = []\n",
    "        for entry in tqdm(entries):\n",
    "            for question in entry.questions:\n",
    "                futures.append(executor.submit(process_question, entry, question))\n",
    "        \n",
    "        for future in futures:\n",
    "            future.result()\n",
    "    progress_q.close()"
   ]
  },
  {
   "cell_type": "code",
   "execution_count": 8,
   "metadata": {},
   "outputs": [],
   "source": [
    "once = False"
   ]
  },
  {
   "cell_type": "code",
   "execution_count": 9,
   "metadata": {},
   "outputs": [],
   "source": [
    "def create_train_dataset(entries: list[Entry]) -> Dataset:\n",
    "    dataset = []\n",
    "    for entry in entries:\n",
    "        for question in entry.questions:\n",
    "            if question.reasoning is None or question.answer is None:\n",
    "                continue\n",
    "            global once\n",
    "            if not once:\n",
    "                print({\n",
    "                    \"problem\": entry.problem,\n",
    "                    \"question\": question.question,\n",
    "                    \"options\": format_options(question.options),\n",
    "                    \"reasoning\": question.reasoning,\n",
    "                    \"answer\": question.answer\n",
    "                })\n",
    "                once = True\n",
    "            dataset.append({\n",
    "                \"problem\": entry.problem,\n",
    "                \"question\": question.question,\n",
    "                \"options\": format_options(question.options),\n",
    "                \"reasoning\": question.reasoning,\n",
    "                \"answer\": question.answer\n",
    "            })\n",
    "    return Dataset.from_list(dataset)"
   ]
  },
  {
   "cell_type": "code",
   "execution_count": 10,
   "metadata": {},
   "outputs": [],
   "source": [
    "# entries = parse_file(\"./round1_train_data.jsonl\")\n",
    "import pickle\n",
    "entries = pickle.load(open(\"entries.pkl\", \"rb\"))"
   ]
  },
  {
   "cell_type": "code",
   "execution_count": 11,
   "metadata": {},
   "outputs": [
    {
     "data": {
      "text/plain": [
       "Entry(problem='在一场山地自行车比赛中，四位选手分别取得了第一、第二、第三和第四名。不同的颜色代表不同的排名。下面是一些关于这场比赛和选手排名的信息：\\n\\n1. Alan 名列第一。\\n2. 第二名的选手穿红色服装。\\n3. John 没有穿黄色服装。\\n4. 第四名的选手穿蓝色服装。\\n5. Steve 的排名和他的服装色是相同的名次。\\n6. Kev 的名次排在 Steve 前面。\\n7. 第二名的选手穿的不是青色。\\n8. 黄色服穿的选手的成绩排在绿色服穿的选手前面。\\n9. 确保每四个参数中的所有元素都不相同和符合排名顺序。\\n\\n根据上述信息， 回答以下选择题：', questions=[QuestionItem(question='选择题 1:\\n根据比赛结果，排在第二名之后的可能是哪些名次？', options=['第一名 第三名', '第三名 第四名'], reasoning='好的，让我们一步一步来分析这个问题。\\n\\n首先，我们知道 Alan 名列第一（信息 1），所以第一名的位置已经确定了。\\n\\n接下来，我们知道第二名的选手穿红色服装（信息 2）。\\n\\n然后，我们知道 John 没有穿黄色服装（信息 3），这意味着 John 不是第二名，因为第二名已经给了红色服装。\\n\\n现在，我们知道第四名的选手穿蓝色服装（信息 4）。\\n\\n接着，Steve 的排名和他的服装色是相同的名次（信息 5）。这意味着 Steve 的名次要么是红色（第二名），要么是蓝色（第四名），因为这是我们目前知道的唯一两种颜色。\\n\\n由于 Kev 的名次排在 Steve 前面（信息 6），那么 Kev 只能是第一名或第二名。但是，Alan 已经名列第一（信息 1），所以 Kev 只能是第二名。这意味着 Steve 不能是第二名，因为 Kev 已经占据了第二名。\\n\\n因此，Steve 只能是第四名（信息 5 和 6），这意味着他穿蓝色服装。\\n\\n现在我们知道第二名（红色服装）是 Kev，第四名（蓝色服装）是 Steve。\\n\\n由于黄色服穿的选手的成绩排在绿色服穿的选手前面（信息 8），而我们已经确定了蓝色和红色服装的选手的位置，所以黄色服装的选手只能是第三名，绿色服装的选手只能是第四名。\\n\\n所以，排在第二名之后的可能是第三名和第四名。\\n\\n因此，答案是 B: 第三名 第四名。', answer='B'), QuestionItem(question='选择题 2:\\n第一名是不是在第三名之前？', options=['是', '否'], reasoning='好的，让我们一步一步地分析这个问题。\\n\\n首先，我们知道 Alan 名列第一（信息 1）。\\n\\n接下来，我们知道第二名的选手穿红色服装（信息 2）。\\n\\n然后，我们知道 John 没有穿黄色服装（信息 3）。\\n\\n接着，我们知道第四名的选手穿蓝色服装（信息 4）。\\n\\n接下来，Steve 的排名和他的服装色是相同的名次（信息 5）。\\n\\n然后，Kev 的名次排在 Steve 前面（信息 6）。\\n\\n接下来，我们得知第二名的选手穿的不是青色（信息 7）。\\n\\n最后，我们得知黄色服穿的选手的成绩排在绿色服穿的选手前面（信息 8）。\\n\\n现在，我们要确定第一名是不是在第三名之前。由于 Alan 名列第一（信息 1），我们需要找到第三名是谁。根据信息 8，黄色服穿的选手的成绩排在绿色服穿的选手前面。这意味着黄色服装的选手不是第一就是第二，因为只有这两个名次在绿色服装的选手之前。但是，我们已经知道第二名是红色服装的（信息 2），所以黄色服装的选手只能是第一名。\\n\\n由于黄色服装的选手是第一名，这意味着 Alan（信息 1）和黄色服装的选手是同一个人。因此，Alan 穿的是黄色服装，他是第一名。\\n\\n现在我们来看第三名。根据信息 5，Steve 的排名和他的服装色是相同的名次，而根据信息 6，Kev 的名次排在 Steve 前面。这意味着 Steve 不可能是第三名，因为他要么是第一名（黄色服装），要么是第二名（红色服装）。由于 Kev 的名次排在 Steve 前面，Kev 也不可能是第三名，因为他要么是第一名（黄色服装），要么是第二名（红色服装）。\\n\\n由于 Steve 和 Kev 都不可能是第三名，那么第三名只能是 John。这是因为 John 是唯一一个没有被分配到红色、黄色或蓝色服装的选手（信息 3 和 4），而且他的名次不能是第一或第二（因为 Steve 和 Kev 已经排除了这两个名次），所以 John 只能是第三名。\\n\\n既然我们已经确定了 Alan 是第一名，John 是第三名，那么我们可以得出结论，第一名是在第三名之前的。这就是为什么答案是 A。', answer='A'), QuestionItem(question='选择题 3:\\n第一名是不是在第一名之前？', options=['是', '否'], reasoning='好的，让我们一步一步地分析这个问题。\\n\\n首先，我们知道 Alan 名列第一。这是我们唯一确定的第一名信息。\\n\\n接下来，我们知道第二名的选手穿红色服装。这告诉我们红色服装的选手是第二名。\\n\\n然后，我们得知 John 没有穿黄色服装。这意味着 John 不是穿黄色服装的选手。\\n\\n我们还知道第四名的选手穿蓝色服装。这告诉我们蓝色服装的选手是第四名。\\n\\nSteve 的排名和他的服装色是相同的名次。这意味着 Steve 的排名要么是第一，要么是第二，要么是第三，要么是第四，并且他的服装颜色也是相应的颜色。\\n\\nKev 的名次排在 Steve 前面。这意味着 Kev 的排名要么是第一，要么是第二。\\n\\n第二名的选手穿的不是青色。这意味着第二名的选手要么穿红色服装，要么穿黄色服装，要么穿绿色服装。\\n\\n黄色服穿的选手的成绩排在绿色服穿的选手前面。这意味着黄色服装的选手要么是第一名，要么是第二名，要么是第三名，并且他排在了绿色服装的选手前面。\\n\\n现在，我们来检查一下排名顺序。我们知道 Alan 是第一名，红色服装的选手是第二名，蓝色服装的选手是第四名。这意味着第三名和黄色服装的选手还没有确定。\\n\\n由于 Steve 的排名和他的服装色是相同的名次，并且 Kev 的名次排在 Steve 前面，我们可以推断出 Steve 不能是第一名，因为那样 Kev 就不能排在 Steve 前面了。因此，Steve 只能是第二名或第三名。\\n\\n但是，我们已经知道第二名是红色服装的选手，所以 Steve 不能是第二名。因此，Steve 必须是第三名，并且他穿黄色服装。这意味着黄色服装的选手（Steve）是第三名，而不是第一名。\\n\\n因此，根据我们的推理，第一名（Alan）不是在第一名之前，所以答案是 B。', answer='B'), QuestionItem(question='选择题 4:\\n第一名是不是在第四名之前？', options=['是', '否'], reasoning='好的，让我们一步一步地分析这个问题。\\n\\n首先，我们知道 Alan 名列第一（信息 1）。\\n\\n接着，我们知道第二名的选手穿红色服装（信息 2）。\\n\\n然后，我们知道 John 没有穿黄色服装（信息 3）。\\n\\n第四名的选手穿蓝色服装（信息 4）。\\n\\nSteve 的排名和他的服装色是相同的名次（信息 5）。\\n\\nKev 的名次排在 Steve 前面（信息 6）。\\n\\n第二名的选手穿的不是青色（信息 7）。\\n\\n黄色服穿的选手的成绩排在绿色服穿的选手前面（信息 8）。\\n\\n最后，我们确保每四个参数中的所有元素都不相同和符合排名顺序（信息 9）。\\n\\n现在，我们要回答的问题是：第一名是不是在第四名之前？\\n\\n根据信息 1，Alan 名列第一。根据信息 4，第四名的选手穿蓝色服装。我们要确定的是 Alan（第一名）是否在蓝色服装的选手（第四名）之前。\\n\\n由于每四个参数中的所有元素都不相同和符合排名顺序（信息 9），我们可以推断出 Alan（第一名）不会是穿蓝色服装的选手，因为那样会导致两个第一名（Alan 和蓝色服装的选手），这与信息 9 矛盾。\\n\\n因此，Alan（第一名）必须在穿蓝色服装的选手（第四名）之前。\\n\\n所以，答案是 A: 是。', answer='A')])"
      ]
     },
     "execution_count": 11,
     "metadata": {},
     "output_type": "execute_result"
    }
   ],
   "source": [
    "entries[1]"
   ]
  },
  {
   "cell_type": "code",
   "execution_count": 12,
   "metadata": {},
   "outputs": [
    {
     "data": {
      "application/vnd.jupyter.widget-view+json": {
       "model_id": "12c3cc17f6f247248dfeb78059e5aeee",
       "version_major": 2,
       "version_minor": 0
      },
      "text/plain": [
       "  0%|          | 0/687 [00:00<?, ?it/s]"
      ]
     },
     "metadata": {},
     "output_type": "display_data"
    },
    {
     "data": {
      "application/vnd.jupyter.widget-view+json": {
       "model_id": "19e18c5a17144e759d78efc2609cbc4d",
       "version_major": 2,
       "version_minor": 0
      },
      "text/plain": [
       "  0%|          | 0/281 [00:00<?, ?it/s]"
      ]
     },
     "metadata": {},
     "output_type": "display_data"
    }
   ],
   "source": [
    "generate_reasoning_inplace(entries)"
   ]
  },
  {
   "cell_type": "code",
   "execution_count": 13,
   "metadata": {},
   "outputs": [],
   "source": [
    "import re\n",
    "answer_regex = re.compile(r\"答案.*?([A-Z])\")\n",
    "entries_to_drop = []\n",
    "for entry in entries:\n",
    "    for question in entry.questions:\n",
    "        matches = answer_regex.findall(question.reasoning)\n",
    "        answer = matches[-1] if len(matches) > 0 else None\n",
    "        if answer != question.answer:\n",
    "            print(f\"答案不匹配: {answer} != {question.answer}\")\n",
    "            entries_to_drop.append(entry)"
   ]
  },
  {
   "cell_type": "code",
   "execution_count": 14,
   "metadata": {},
   "outputs": [],
   "source": [
    "entries = [entry for entry in entries if entry not in entries_to_drop]"
   ]
  },
  {
   "cell_type": "code",
   "execution_count": 15,
   "metadata": {},
   "outputs": [
    {
     "data": {
      "text/plain": [
       "281"
      ]
     },
     "execution_count": 15,
     "metadata": {},
     "output_type": "execute_result"
    }
   ],
   "source": [
    "len(entries)"
   ]
  },
  {
   "cell_type": "code",
   "execution_count": 16,
   "metadata": {},
   "outputs": [
    {
     "name": "stdout",
     "output_type": "stream",
     "text": [
      "{'problem': '有一个英文到法文的词汇表，包含以下对应词汇：\\n\\n1. the -> le\\n2. cat -> chat\\n3. jumps -> sauts\\n4. over -> sur\\n5. moon -> lune\\n6. cow -> vache\\n7. plays -> jouer\\n8. fiddle -> violon\\n9. egg -> bougre\\n10. falls -> des chutes\\n11. off -> de\\n12. wall -> mur\\n\\n根据这个词汇表，翻译以下英文句子成法文：', 'question': '选择题 1：\\n英文句子 \"the cat jumps over the moon\" 翻译成法文是：', 'options': 'A: le chat saute sur la lune\\nB: le chat sauts sur le lune\\nC: le sauts chat sur le lune\\nD: le chat sauts sur le lune', 'reasoning': ' 首先，我们根据英文到法文的词汇表来翻译句子中的每个单词：\\n\\n1. \"the\" -> \"le\"，所以 \"the cat\" 变成 \"le chat\"。\\n2. \"cat\" -> \"chat\"，所以 \"cat\" 保持不变，依然是 \"chat\"。\\n3. \"jumps\" -> \"sauts\"，所以 \"jumps over\" 变成 \"sauts sur\"。\\n4. \"over\" -> \"sur\"，所以 \"over the moon\" 变成 \"sur la lune\"。\\n\\n综上所述，根据词汇表翻译，英文句子 \"the cat jumps over the moon\" 变成法文是 \"le chat sauts sur la lune\"。\\n\\n选项A：\"le chat saute sur la lune\" 错误，因为 \"jumps\" 对应 \"sauts\" 而不是 \"sautte\"。\\n选项B：\"le chat sauts sur le lune\" 错误，因为 \"over the moon\" 应该用 \"sur la lune\" 而不是 \"sur le lune\"。\\n选项C：\"le sauts chat sur le lune\" 错误，因为法文中形容词和名词的位置与英文不同，应该是 \"le chat sauts sur la lune\" 而不是 \"le sauts chat sur le lune\"。\\n\\n因此，正确答案是 D：\"le chat sauts sur la lune\"。', 'answer': 'D'}\n"
     ]
    }
   ],
   "source": [
    "ds = create_train_dataset(entries)"
   ]
  },
  {
   "cell_type": "code",
   "execution_count": 17,
   "metadata": {},
   "outputs": [
    {
     "data": {
      "application/vnd.jupyter.widget-view+json": {
       "model_id": "3ae760041eb94b088aba5b4a3199c189",
       "version_major": 2,
       "version_minor": 0
      },
      "text/plain": [
       "Saving the dataset (0/1 shards):   0%|          | 0/687 [00:00<?, ? examples/s]"
      ]
     },
     "metadata": {},
     "output_type": "display_data"
    }
   ],
   "source": [
    "ds.save_to_disk(\"./train_dataset\")"
   ]
  },
  {
   "cell_type": "code",
   "execution_count": 18,
   "metadata": {},
   "outputs": [
    {
     "data": {
      "text/plain": [
       "{'problem': '有一个英文到法文的词汇表，包含以下对应词汇：\\n\\n1. the -> le\\n2. cat -> chat\\n3. jumps -> sauts\\n4. over -> sur\\n5. moon -> lune\\n6. cow -> vache\\n7. plays -> jouer\\n8. fiddle -> violon\\n9. egg -> bougre\\n10. falls -> des chutes\\n11. off -> de\\n12. wall -> mur\\n\\n根据这个词汇表，翻译以下英文句子成法文：',\n",
       " 'question': '选择题 1：\\n英文句子 \"the cat jumps over the moon\" 翻译成法文是：',\n",
       " 'options': 'A: le chat saute sur la lune\\nB: le chat sauts sur le lune\\nC: le sauts chat sur le lune\\nD: le chat sauts sur le lune',\n",
       " 'reasoning': ' 首先，我们根据英文到法文的词汇表来翻译句子中的每个单词：\\n\\n1. \"the\" -> \"le\"，所以 \"the cat\" 变成 \"le chat\"。\\n2. \"cat\" -> \"chat\"，所以 \"cat\" 保持不变，依然是 \"chat\"。\\n3. \"jumps\" -> \"sauts\"，所以 \"jumps over\" 变成 \"sauts sur\"。\\n4. \"over\" -> \"sur\"，所以 \"over the moon\" 变成 \"sur la lune\"。\\n\\n综上所述，根据词汇表翻译，英文句子 \"the cat jumps over the moon\" 变成法文是 \"le chat sauts sur la lune\"。\\n\\n选项A：\"le chat saute sur la lune\" 错误，因为 \"jumps\" 对应 \"sauts\" 而不是 \"sautte\"。\\n选项B：\"le chat sauts sur le lune\" 错误，因为 \"over the moon\" 应该用 \"sur la lune\" 而不是 \"sur le lune\"。\\n选项C：\"le sauts chat sur le lune\" 错误，因为法文中形容词和名词的位置与英文不同，应该是 \"le chat sauts sur la lune\" 而不是 \"le sauts chat sur le lune\"。\\n\\n因此，正确答案是 D：\"le chat sauts sur la lune\"。',\n",
       " 'answer': 'D'}"
      ]
     },
     "execution_count": 18,
     "metadata": {},
     "output_type": "execute_result"
    }
   ],
   "source": [
    "ds[0]"
   ]
  },
  {
   "cell_type": "code",
   "execution_count": 19,
   "metadata": {},
   "outputs": [],
   "source": [
    "import pickle\n",
    "pickle.dump(entries, open(\"entries.pkl\", \"wb\"))"
   ]
  },
  {
   "cell_type": "code",
   "execution_count": 20,
   "metadata": {},
   "outputs": [
    {
     "data": {
      "text/plain": [
       "687"
      ]
     },
     "execution_count": 20,
     "metadata": {},
     "output_type": "execute_result"
    }
   ],
   "source": [
    "len(ds)"
   ]
  },
  {
   "cell_type": "code",
   "execution_count": null,
   "metadata": {},
   "outputs": [],
   "source": []
  }
 ],
 "metadata": {
  "kernelspec": {
   "display_name": "default",
   "language": "python",
   "name": "python3"
  },
  "language_info": {
   "codemirror_mode": {
    "name": "ipython",
    "version": 3
   },
   "file_extension": ".py",
   "mimetype": "text/x-python",
   "name": "python",
   "nbconvert_exporter": "python",
   "pygments_lexer": "ipython3",
   "version": "3.12.4"
  }
 },
 "nbformat": 4,
 "nbformat_minor": 2
}
