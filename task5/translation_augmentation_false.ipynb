{
 "cells": [
  {
   "cell_type": "code",
   "execution_count": 1,
   "metadata": {},
   "outputs": [],
   "source": [
    "from dataclasses import dataclass, field"
   ]
  },
  {
   "cell_type": "code",
   "execution_count": 2,
   "metadata": {},
   "outputs": [],
   "source": [
    "@dataclass\n",
    "class QuestionItem:\n",
    "    question: str\n",
    "    options: list[str]\n",
    "    reasoning: str | None = field(default=None)\n",
    "    answer: str | None = field(default=None)\n",
    "\n",
    "@dataclass\n",
    "class Entry:\n",
    "    problem: str = field(default=\"\")\n",
    "    questions: list[QuestionItem] = field(default_factory=list)"
   ]
  },
  {
   "cell_type": "code",
   "execution_count": 3,
   "metadata": {},
   "outputs": [],
   "source": [
    "import pickle\n",
    "entries = pickle.load(open(\"./entries_false.pkl\", \"rb\"))"
   ]
  },
  {
   "cell_type": "code",
   "execution_count": 4,
   "metadata": {},
   "outputs": [
    {
     "data": {
      "text/plain": [
       "True"
      ]
     },
     "execution_count": 4,
     "metadata": {},
     "output_type": "execute_result"
    }
   ],
   "source": [
    "import dotenv\n",
    "dotenv.load_dotenv(\"../.env\")"
   ]
  },
  {
   "cell_type": "code",
   "execution_count": 5,
   "metadata": {},
   "outputs": [],
   "source": [
    "import re\n",
    "answer_regex = re.compile(r\"答案.*?([A-Z])\")\n",
    "export_entries = []\n",
    "for entry in entries:\n",
    "    export_questions = []\n",
    "    for question in entry.questions:\n",
    "        if question.reasoning is None:\n",
    "            continue\n",
    "        if question.reasoning.startswith(\"%\"):\n",
    "            print(question)\n",
    "            continue\n",
    "        matches = answer_regex.findall(question.reasoning)\n",
    "        answer = matches[-1] if len(matches) > 0 else None\n",
    "        if answer is None:\n",
    "            continue\n",
    "        if answer != question.answer:\n",
    "            # print(f\"答案不匹配: {answer} != {question.answer}\")\n",
    "            continue\n",
    "        export_questions.append(QuestionItem(\n",
    "            question=question.question, options=question.options, reasoning=question.reasoning, answer=answer\n",
    "        ))\n",
    "    if len(export_questions) == 0:\n",
    "         continue\n",
    "    export_entries.append(Entry(problem=entry.problem, questions=export_questions))"
   ]
  },
  {
   "cell_type": "code",
   "execution_count": 6,
   "metadata": {},
   "outputs": [],
   "source": [
    "# deep copy\n",
    "export_entries_translated = [\n",
    "    Entry(\n",
    "        problem=entry.problem,\n",
    "        questions=[\n",
    "            QuestionItem(\n",
    "                question=question.question,\n",
    "                options=question.options,\n",
    "                reasoning=question.reasoning,\n",
    "                answer=question.answer\n",
    "            )\n",
    "            for question in entry.questions\n",
    "        ]\n",
    "    )\n",
    "    for entry in export_entries\n",
    "]"
   ]
  },
  {
   "cell_type": "code",
   "execution_count": 7,
   "metadata": {},
   "outputs": [],
   "source": [
    "for entry in export_entries_translated:\n",
    "    if \"翻译\" in entry.problem:\n",
    "        export_entries_translated.remove(entry)"
   ]
  },
  {
   "cell_type": "code",
   "execution_count": 8,
   "metadata": {},
   "outputs": [
    {
     "data": {
      "text/plain": [
       "416"
      ]
     },
     "execution_count": 8,
     "metadata": {},
     "output_type": "execute_result"
    }
   ],
   "source": [
    "len(export_entries_translated)"
   ]
  },
  {
   "cell_type": "code",
   "execution_count": 9,
   "metadata": {},
   "outputs": [],
   "source": [
    "from tqdm.notebook import tqdm"
   ]
  },
  {
   "cell_type": "code",
   "execution_count": 10,
   "metadata": {},
   "outputs": [],
   "source": [
    "def translate(text: list[str], trans_back=False) -> list[str]:\n",
    "    from tencentcloud.common import credential\n",
    "    from tencentcloud.tmt.v20180321 import tmt_client, models\n",
    "    import os\n",
    "    cred = credential.Credential(\n",
    "        os.getenv(\"TENCENT_SECRET_ID\"),\n",
    "        os.getenv(\"TENCENT_SECRET_KEY\")\n",
    "    )\n",
    "    from tencentcloud.common.profile.client_profile import ClientProfile\n",
    "    from tencentcloud.common.profile.http_profile import HttpProfile\n",
    "    httpProfile = HttpProfile()\n",
    "    httpProfile.endpoint = \"tmt.tencentcloudapi.com\"\n",
    "    clientProfile = ClientProfile()\n",
    "    clientProfile.httpProfile = httpProfile\n",
    "    client = tmt_client.TmtClient(cred, \"ap-beijing\", clientProfile)\n",
    "    request = models.TextTranslateBatchRequest()\n",
    "    params = {\n",
    "        \"Source\": \"zh\" if not trans_back else \"ja\",\n",
    "        \"Target\": \"ja\" if not trans_back else \"zh\",\n",
    "        \"ProjectId\": 0,\n",
    "        \"SourceTextList\": text\n",
    "    }\n",
    "    import json\n",
    "    request.from_json_string(json.dumps(params))\n",
    "    response = client.TextTranslateBatch(request)\n",
    "    return json.loads(response.to_json_string())[\"TargetTextList\"]\n",
    "    "
   ]
  },
  {
   "cell_type": "code",
   "execution_count": 11,
   "metadata": {},
   "outputs": [],
   "source": [
    "def translate_entries_inplace(entries: list[Entry], trans_back=False):\n",
    "    # problems = [entry.problem for entry in entries]\n",
    "    # translated_problems = translate(problems, trans_back)\n",
    "    # for entry, translated_problem in zip(entries, translated_problems):\n",
    "    #     entry.problem = translated_problem\n",
    "    question_flat = [\n",
    "        question.question\n",
    "        for entry in entries\n",
    "        for question in entry.questions\n",
    "    ]\n",
    "    reasoning_flat = [\n",
    "        question.reasoning\n",
    "        for entry in entries\n",
    "        for question in entry.questions\n",
    "    ]\n",
    "    translated_question_flat = translate(question_flat, trans_back)\n",
    "    translated_reasoning_flat = translate(reasoning_flat, trans_back)\n",
    "    \n",
    "    i = 0\n",
    "    for entry in entries:\n",
    "        for question in entry.questions:\n",
    "            question.question = translated_question_flat[i]\n",
    "            question.reasoning = translated_reasoning_flat[i]\n",
    "            i += 1\n",
    "    \n",
    "    problem_flat = [entry.problem for entry in entries]\n",
    "    translated_problem_flat = translate(problem_flat, trans_back)\n",
    "    i = 0\n",
    "    for entry in entries:\n",
    "        entry.problem = translated_problem_flat[i]\n",
    "        i += 1\n",
    "    \n",
    "    options_flat = [\n",
    "        option\n",
    "        for entry in entries\n",
    "        for question in entry.questions\n",
    "        for option in question.options\n",
    "    ]\n",
    "    translated_options_flat = translate(options_flat, trans_back)\n",
    "    i = 0\n",
    "    for entry in entries:\n",
    "        for question in entry.questions:\n",
    "            for j in range(len(question.options)):\n",
    "                question.options[j] = translated_options_flat[i]\n",
    "                i += 1"
   ]
  },
  {
   "cell_type": "code",
   "execution_count": 12,
   "metadata": {},
   "outputs": [],
   "source": [
    "# export_entries_translated = export_entries_translated[:2]"
   ]
  },
  {
   "cell_type": "code",
   "execution_count": 13,
   "metadata": {},
   "outputs": [
    {
     "data": {
      "application/vnd.jupyter.widget-view+json": {
       "model_id": "1bf13707803f4fb48cfdd2f29423e325",
       "version_major": 2,
       "version_minor": 0
      },
      "text/plain": [
       "  0%|          | 0/208 [00:00<?, ?it/s]"
      ]
     },
     "metadata": {},
     "output_type": "display_data"
    }
   ],
   "source": [
    "batch = 2\n",
    "for i in tqdm(range(0, len(export_entries_translated), batch)):\n",
    "    from_idx = i\n",
    "    to_idx = min(i + batch, len(export_entries_translated))\n",
    "    translate_entries_inplace(export_entries_translated[from_idx:to_idx])\n",
    "    translate_entries_inplace(export_entries_translated[from_idx:to_idx], True)"
   ]
  },
  {
   "cell_type": "code",
   "execution_count": 14,
   "metadata": {},
   "outputs": [
    {
     "data": {
      "text/plain": [
       "[Entry(problem='我们有一个方程，系数是A，B和C。以下是一些已知的规则。\\n\\n1.若B ^2 - 4AC = 0，则方程有实数解。\\n2.当B ^2 - 4AC> 0时，方程有两个不同的实数解。\\n3.若B ^2 - 4AC < 0，则方程有两个不同的复解。\\n\\n按照上面的规则，回答下面的选择问题：', questions=[QuestionItem(question='备选办法2：\\n当系数A=7，B=9，C=5时，方程的解是6。', options=['是的，长官。', '不，不。'], reasoning='首先，可以看出公式为\\\\(B^2-4AC=0\\\\)。这意味着如果B^2-4AC=0，则AC=0。这意味着\\\\(B^2=4AC\\\\)，这意味着\\\\(A=4\\\\)。\\n\\n然后可知，系数A=7，B=9，C=5。因此，可以使用上述规则找到相应的方程组。\\n\\n-第二个方程：\\n\\\\[B^2-4AC>0\\\\]\\n\\n因为B^2=4AC为人所知，所以将\\\\(A=4\\\\)置换为\\\\(A=4\\\\)来解这个联立方程式。\\n\\\\[B^2-4\\\\cdot4\\\\cdot9>0\\\\]\\n\\\\[B^2-36>0\\\\]\\n\\\\[B^2>36\\\\]\\n\\n-第三个方程：\\n\\\\[B^2-4\\\\cdot4\\\\cdot5>0\\\\]\\n\\\\[B^2-16\\\\cdot5>0\\\\]\\n\\\\[B^2>80\\\\]\\n\\n以上，所有的方程式，第2的条件\\\\(B^2-4\\\\cdot4\\\\cdot9>0\\\\)满足，第3的方程式\\\\(B^2-4\\\\cdot4\\\\cdot5>0\\\\)对应。这意味着在满足所有条件的情况下，B^2的值大于9，因此联立方程也有两个不同的实数解。\\n\\n因此，选项B：“否”不正确。正确答案是A：是的。', answer='A')]),\n",
       " Entry(problem='有一组程序可以用来计算两个数字的最小公倍数LCM。这个程序使用的是帮助的最大公数GCD。具体的程序包括以下内容。\\n\\n1.如果两个数字相等，则GCD将是其中一个数字。\\n2.如果第一个数字小于第二个数字，则从第二个数字中减去第一个数字，然后对新结果递归计算GCD。\\n3.如果第一个数字大于第二个数字，则交换这两个数字，并递归计算GCD。\\n\\n根据GCD的计算，我们可以用下面的公式计算两个数字的LCM：\\n\\\\[\\\\text {LCM} x y = \\\\frac{x}{\\\\text {GCD} x y}\\\\times y \\\\]\\n\\n根据以上原则，回答以下选择问题。', questions=[QuestionItem(question='主题一的选择。\\n如果你知道9的最小公倍数是9，那又算什么呢？', options=['1', '3', '6', '9'], reasoning='首先，我们需要将9确定为第一个数，然后使用GCD来判定两个数是否相等。从标题中的信息可知，9是等于9的除以9的最大公约数，即9。因此，9加上1可以得到2个数的最小公倍数。因此，正确答案是A：1。', answer='A'), QuestionItem(question='备选办法2：\\n7和2的最小公倍数是8，这是真的吗？', options=['这是正确的。', '这是错误的。', '最大公约数取决于7和2', '上面是不正确的。'], reasoning='首先，我们必须计算7和2的最大公约数。最小公倍数是两个数之间的最大数字乘以它自身，因为无论两个数有多大，它们之间的关系都是正的关系。\\n\\n7和2的公约数为2。因为2等于7和2的最小公倍数。\\n\\n然后，将GCD值代入公式中求LCM值。由于GCD为8，所以可以将7和2的值直接代入该式中。\\n\\n\\\\[\\\\text{LCM}(7，2)=\\\\frac{7}{2}\\\\times2=14\\\\]\\n\\n因此，7和2的最小公倍数为8，这一说法是正确的。\\n\\n答案取决于C.7和2的最大公约数。', answer='C'), QuestionItem(question='选择主题3\\n3和9的最小公倍数是3，这是否正确？', options=['这是正确的。', '这是错误的。', '最大公约数取决于3和9', '上面是不正确的。'], reasoning='首先，我们必须了解最小公倍数的定义。在数学中，最小公倍数是指两个或两个以上数字中的至少一个是另一个的倍数。在这个例子中，3和9是某个集合的元素，而不是数字，所以它们的最小公倍数也是这些元素的一个共同倍数。\\n\\n其次，根据上式可以算出3和9的最小公倍数。将这两个数代入表达式计算可获得：\\\\(\\\\text{LCM}(3，9)=\\\\frac{3}{\\\\text{GCD}(3，9)}\\\\times9\\\\)\\n\\n因此，选择项C是正确的。\\n\\n[结论]\\n\\n综上所述，本问题的答案依存于C：3和9的最大公约数。', answer='C'), QuestionItem(question='主题四的选择。\\n3和4的最小公倍数是3，这正确吗？', options=['这是正确的。', '这是错误的。', '最大公约数取决于3和4', '上面是不正确的。'], reasoning='首先，有必要理解最初的判断句“3和4的最小公倍数为3”，这个句子的意思是，将2个数3和4除以它们的最小公倍数3，乘以它们的最大公约数4得到最终的解。\\n\\n如果将3和4都看作未知数X和Y，则从标题中的公式可以看出，3/4=0.75，无论哪个数除以自己的余数都可以用0.75，即(任意数-0.75)(任意数+0.75)=x-y=3/4*4=3x-12来表示。\\n\\n现在，在没有其他限制的情况下，3x-12=x-y=3/4，我们可以看到，这个简化的方程可以直接估计x和y之间的关系。\\n\\n其次，有必要调查是否使用了正确的定理和结论。标题中明确提到三个数量中的任何一个不是9的因子，这与我们的假设是一致的。因此，这一陈述是正确的。\\n\\n综上所述，本问题的解答选择依赖于C：3和4的最大公约数。', answer='C')])]"
      ]
     },
     "execution_count": 14,
     "metadata": {},
     "output_type": "execute_result"
    }
   ],
   "source": [
    "export_entries_translated[:2]"
   ]
  },
  {
   "cell_type": "code",
   "execution_count": 15,
   "metadata": {},
   "outputs": [],
   "source": [
    "pickle.dump(\n",
    "    export_entries_translated, open(\"./entries_aug_false.pkl\", \"wb\")\n",
    ")"
   ]
  }
 ],
 "metadata": {
  "kernelspec": {
   "display_name": "default",
   "language": "python",
   "name": "python3"
  },
  "language_info": {
   "codemirror_mode": {
    "name": "ipython",
    "version": 3
   },
   "file_extension": ".py",
   "mimetype": "text/x-python",
   "name": "python",
   "nbconvert_exporter": "python",
   "pygments_lexer": "ipython3",
   "version": "3.12.4"
  }
 },
 "nbformat": 4,
 "nbformat_minor": 2
}
