{
 "cells": [
  {
   "cell_type": "code",
   "execution_count": 1,
   "metadata": {},
   "outputs": [],
   "source": [
    "from dataclasses import dataclass, field\n",
    "from datasets import Dataset"
   ]
  },
  {
   "cell_type": "code",
   "execution_count": 2,
   "metadata": {},
   "outputs": [],
   "source": [
    "def format_options(options):\n",
    "    return '\\n'.join(\n",
    "        [\n",
    "            f'{chr(ord(\"A\") + i)}: {option}'\n",
    "            for i, option in enumerate(options)\n",
    "        ]\n",
    "    )"
   ]
  },
  {
   "cell_type": "code",
   "execution_count": 3,
   "metadata": {},
   "outputs": [],
   "source": [
    "@dataclass\n",
    "class QuestionItem:\n",
    "    question: str\n",
    "    options: list[str]\n",
    "    reasoning: str | None = field(default=None)\n",
    "    answer: str | None = field(default=None)\n",
    "\n",
    "@dataclass\n",
    "class Entry:\n",
    "    problem: str = field(default=\"\")\n",
    "    questions: list[QuestionItem] = field(default_factory=list)"
   ]
  },
  {
   "cell_type": "code",
   "execution_count": 4,
   "metadata": {},
   "outputs": [],
   "source": [
    "def create_train_dataset(entries: list[Entry]) -> Dataset:\n",
    "    dataset = []\n",
    "    for entry in entries:\n",
    "        for question in entry.questions:\n",
    "            if question.reasoning is None or question.answer is None:\n",
    "                continue\n",
    "            dataset.append({\n",
    "                \"problem\": entry.problem,\n",
    "                \"question\": question.question,\n",
    "                \"options\": format_options(question.options),\n",
    "                \"reasoning\": question.reasoning,\n",
    "                \"answer\": question.answer\n",
    "            })\n",
    "    return Dataset.from_list(dataset)"
   ]
  },
  {
   "cell_type": "code",
   "execution_count": 5,
   "metadata": {},
   "outputs": [],
   "source": [
    "import pickle"
   ]
  },
  {
   "cell_type": "code",
   "execution_count": 6,
   "metadata": {},
   "outputs": [],
   "source": [
    "et = pickle.load(open(\"./entries.pkl\", \"rb\"))\n",
    "et_aug = pickle.load(open(\"./entries_aug.pkl\", \"rb\"))"
   ]
  },
  {
   "cell_type": "code",
   "execution_count": 7,
   "metadata": {},
   "outputs": [],
   "source": [
    "ds = create_train_dataset(et + et_aug)"
   ]
  },
  {
   "cell_type": "code",
   "execution_count": 9,
   "metadata": {},
   "outputs": [
    {
     "data": {
      "application/vnd.jupyter.widget-view+json": {
       "model_id": "2b580eb216fe4a29a767eab5891b27f4",
       "version_major": 2,
       "version_minor": 0
      },
      "text/plain": [
       "Saving the dataset (0/1 shards):   0%|          | 0/1367 [00:00<?, ? examples/s]"
      ]
     },
     "metadata": {},
     "output_type": "display_data"
    }
   ],
   "source": [
    "ds.save_to_disk(\"./train_aug_dataset\")"
   ]
  },
  {
   "cell_type": "code",
   "execution_count": null,
   "metadata": {},
   "outputs": [],
   "source": []
  }
 ],
 "metadata": {
  "kernelspec": {
   "display_name": "default",
   "language": "python",
   "name": "python3"
  },
  "language_info": {
   "codemirror_mode": {
    "name": "ipython",
    "version": 3
   },
   "file_extension": ".py",
   "mimetype": "text/x-python",
   "name": "python",
   "nbconvert_exporter": "python",
   "pygments_lexer": "ipython3",
   "version": "3.12.4"
  }
 },
 "nbformat": 4,
 "nbformat_minor": 2
}
