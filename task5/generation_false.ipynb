{
 "cells": [
  {
   "cell_type": "code",
   "execution_count": 1,
   "metadata": {},
   "outputs": [],
   "source": [
    "from langchain_core.prompts import PromptTemplate\n",
    "from langchain_huggingface import HuggingFacePipeline\n",
    "from transformers import pipeline\n",
    "import torch\n",
    "from transformers import TextGenerationPipeline\n",
    "from tqdm.notebook import tqdm\n",
    "import os\n",
    "from dataclasses import dataclass, field\n",
    "from langchain.chains.base import Chain\n",
    "from datasets import Dataset\n",
    "from trl.trainer import ConstantLengthDataset\n",
    "from peft import LoraConfig\n",
    "from transformers import DataCollatorForLanguageModeling\n",
    "from trl.trainer import SFTTrainer, SFTConfig\n",
    "from transformers import Qwen2ForCausalLM, Qwen2TokenizerFast"
   ]
  },
  {
   "cell_type": "code",
   "execution_count": 2,
   "metadata": {},
   "outputs": [
    {
     "data": {
      "text/plain": [
       "True"
      ]
     },
     "execution_count": 2,
     "metadata": {},
     "output_type": "execute_result"
    }
   ],
   "source": [
    "from dotenv import load_dotenv\n",
    "load_dotenv(\"../.env\")"
   ]
  },
  {
   "cell_type": "code",
   "execution_count": 3,
   "metadata": {},
   "outputs": [],
   "source": [
    "def format_options(options):\n",
    "    return '\\n'.join(\n",
    "        [\n",
    "            f'{chr(ord(\"A\") + i)}: {option}'\n",
    "            for i, option in enumerate(options)\n",
    "        ]\n",
    "    )"
   ]
  },
  {
   "cell_type": "code",
   "execution_count": 4,
   "metadata": {},
   "outputs": [],
   "source": [
    "@dataclass\n",
    "class QuestionItem:\n",
    "    question: str\n",
    "    options: list[str]\n",
    "    reasoning: str | None = field(default=None)\n",
    "    answer: str | None = field(default=None)\n",
    "\n",
    "@dataclass\n",
    "class Entry:\n",
    "    problem: str = field(default=\"\")\n",
    "    questions: list[QuestionItem] = field(default_factory=list)"
   ]
  },
  {
   "cell_type": "code",
   "execution_count": 5,
   "metadata": {},
   "outputs": [],
   "source": [
    "def parse_file(file_path: str) -> list[Entry]:\n",
    "    with open(file_path, \"r\") as f:\n",
    "        lines = f.readlines()\n",
    "    entries = []\n",
    "    import json\n",
    "    for line in lines:\n",
    "        entry = json.loads(line)\n",
    "        questions = []\n",
    "        for question in entry[\"questions\"]:\n",
    "            questions.append(QuestionItem(**question))\n",
    "        entries.append(Entry(problem=entry[\"problem\"], questions=questions))\n",
    "    return entries"
   ]
  },
  {
   "cell_type": "code",
   "execution_count": 6,
   "metadata": {},
   "outputs": [],
   "source": [
    "from concurrent.futures import ThreadPoolExecutor"
   ]
  },
  {
   "cell_type": "code",
   "execution_count": 7,
   "metadata": {},
   "outputs": [],
   "source": [
    "def generate_reasoning_inplace(entries: list[Entry]) -> None:\n",
    "    template = \"\"\"你是一个逻辑推理专家，擅长解决逻辑推理问题。以下是一个逻辑推理的题目，形式为单项选择题。所有的问题都是（close-world assumption）闭世界假设，即未观测事实都为假。每个问题都保证能通过一系列基于形式逻辑的推理（包括同一律，矛盾律，排中律的使用等）得到确定的唯一答案。我会向你提供答案，而你要给出逐步的解析来教会我如何得到答案。我是一个小学生，所以每一步的推理不要太复杂。\n",
    "{problem}\n",
    "\n",
    "### 问题\n",
    "{question}\n",
    "{options}\n",
    "\n",
    "### 答案\n",
    "{answer}\n",
    "\n",
    "### 分析过程\"\"\"\n",
    "    import time\n",
    "    import dashscope\n",
    "    client = dashscope.Conversation()\n",
    "    progress_q = tqdm(total=sum([len(entry.questions) for entry in entries]))\n",
    "    import re\n",
    "    answer_regex = re.compile(r\"答案.*?([A-Z])\")\n",
    "    def process_question(entry, question):\n",
    "        if question.reasoning is not None:\n",
    "            matches = answer_regex.findall(question.reasoning)\n",
    "            answer = matches[-1] if len(matches) > 0 else None\n",
    "            if answer == None:\n",
    "                with open(\"./a.txt\", \"a\") as f:\n",
    "                    f.write(\"1\\n\")\n",
    "                    f.write(question.reasoning)\n",
    "                progress_q.update(1)\n",
    "                return\n",
    "            if answer != question.answer:\n",
    "                # print(f\"答案不匹配: {answer} != {question.answer}\")\n",
    "                pass\n",
    "            else:\n",
    "                progress_q.update(1)\n",
    "                return\n",
    "        max_retries = 1\n",
    "        for attempt in range(max_retries):\n",
    "            try:\n",
    "                reasoning_prompt = template.format(**{\n",
    "                    \"problem\": entry.problem,\n",
    "                    \"question\": question.question,\n",
    "                    \"options\": format_options(question.options),\n",
    "                    \"answer\": question.answer\n",
    "                })\n",
    "                resp = client.call(model=\"qwen1.5-0.5b-chat\", prompt=reasoning_prompt)\n",
    "                question.reasoning = resp.output.text\n",
    "                with open(\"reasoning.txt\", \"a\") as f:\n",
    "                    f.write(f\"{reasoning_prompt}\\n\\n{question.reasoning}\\n\\n\")\n",
    "                with open(\"./cnt.txt\", \"a\") as f:\n",
    "                    f.write(\"1\\n\")\n",
    "                # 答案是 [A-Z]\n",
    "                matches = answer_regex.findall(question.reasoning)\n",
    "                answer = matches[-1] if len(matches) > 0 else None \n",
    "                if answer is None:\n",
    "                    break\n",
    "                if answer != question.answer:\n",
    "                    print(f\"答案不匹配: {answer} != {question.answer}\")\n",
    "                    # Retry\n",
    "                    continue\n",
    "                break  # Exit the loop if successful\n",
    "            except Exception as e:\n",
    "                if attempt < max_retries - 1:\n",
    "                    time.sleep(1)  # Optional: wait a bit before retrying\n",
    "                else:\n",
    "                    print(f\"Failed to process question.\")\n",
    "                    print(str(e))\n",
    "        progress_q.update(1)\n",
    "\n",
    "    with ThreadPoolExecutor(max_workers=5) as executor:\n",
    "        futures = []\n",
    "        for entry in tqdm(entries):\n",
    "            for question in entry.questions:\n",
    "                futures.append(executor.submit(process_question, entry, question))\n",
    "        \n",
    "        for future in futures:\n",
    "            future.result()\n",
    "    progress_q.close()"
   ]
  },
  {
   "cell_type": "code",
   "execution_count": 8,
   "metadata": {},
   "outputs": [],
   "source": [
    "once = False"
   ]
  },
  {
   "cell_type": "code",
   "execution_count": 9,
   "metadata": {},
   "outputs": [],
   "source": [
    "def create_train_dataset(entries: list[Entry]) -> Dataset:\n",
    "    dataset = []\n",
    "    for entry in entries:\n",
    "        for question in entry.questions:\n",
    "            if question.reasoning is None or question.answer is None:\n",
    "                continue\n",
    "            global once\n",
    "            if not once:\n",
    "                print({\n",
    "                    \"problem\": entry.problem,\n",
    "                    \"question\": question.question,\n",
    "                    \"options\": format_options(question.options),\n",
    "                    \"reasoning\": question.reasoning,\n",
    "                    \"answer\": question.answer\n",
    "                })\n",
    "                once = True\n",
    "            dataset.append({\n",
    "                \"problem\": entry.problem,\n",
    "                \"question\": question.question,\n",
    "                \"options\": format_options(question.options),\n",
    "                \"reasoning\": question.reasoning,\n",
    "                \"answer\": question.answer\n",
    "            })\n",
    "    return Dataset.from_list(dataset)"
   ]
  },
  {
   "cell_type": "code",
   "execution_count": 10,
   "metadata": {},
   "outputs": [],
   "source": [
    "# entries = parse_file(\"./round1_train_data.jsonl\")\n",
    "import pickle\n",
    "entries = pickle.load(open(\"entries_false.pkl\", \"rb\"))"
   ]
  },
  {
   "cell_type": "code",
   "execution_count": 11,
   "metadata": {},
   "outputs": [
    {
     "data": {
      "text/plain": [
       "Entry(problem='有一个方程的系数分别为A, B和C，下面是一些已知的规则：\\n\\n1. 如果B^2 - 4AC = 0，则方程有一个实数解。\\n2. 如果B^2 - 4AC > 0，则方程有两个不同的实数解。\\n3. 如果B^2 - 4AC < 0，则方程有两个不同的复数解。\\n\\n根据以上规则，回答以下选择题：', questions=[QuestionItem(question='选择题 2：\\n当系数A=7, B=9, C=5时，方程是否有解为6？', options=['是', '否'], reasoning='首先，我们知道方程是 \\\\( B^2 - 4AC = 0 \\\\) 的情况。这意味着如果 B^2 - 4AC = 0，那么AC = 0。这意味着 \\\\( B^2 = 4AC \\\\)，这意味着 \\\\( A = 4 \\\\)。\\n\\n然后我们又知道系数A=7, B=9, C=5。因此，我们可以利用上述规则来找出相应的方程组。\\n\\n- 第二个方程：\\n\\\\[ B^2 - 4AC > 0 \\\\]\\n\\n由于已经我们知道 B^2 = 4AC，因此我们将 \\\\( A = 4 \\\\) 替换为 \\\\( A = 4 \\\\) 以解这个方程组。\\n\\\\[ B^2 - 4 \\\\cdot 4 \\\\cdot 9 > 0 \\\\]\\n\\\\[ B^2 - 36 > 0 \\\\]\\n\\\\[ B^2 > 36 \\\\]\\n\\n- 第三个方程：\\n\\\\[ B^2 - 4 \\\\cdot 4 \\\\cdot 5 > 0 \\\\]\\n\\\\[ B^2 - 16 \\\\cdot 5 > 0 \\\\]\\n\\\\[ B^2 > 80 \\\\]\\n\\n综上所述，所有的方程都满足第二个条件 \\\\( B^2 - 4 \\\\cdot 4 \\\\cdot 9 > 0 \\\\)，并对应于第三个方程 \\\\( B^2 - 4 \\\\cdot 4 \\\\cdot 5 > 0 \\\\)。这意味着在满足所有条件的情况下，B^2的值都大于或等于9，因此方程组也有两个不同的实数解。\\n\\n因此，选项B：“否”不正确。正确的答案是A：是。', answer='A')])"
      ]
     },
     "execution_count": 11,
     "metadata": {},
     "output_type": "execute_result"
    }
   ],
   "source": [
    "entries[1]"
   ]
  },
  {
   "cell_type": "code",
   "execution_count": 12,
   "metadata": {},
   "outputs": [],
   "source": [
    "# add one for every answer to get the false reasoning\n",
    "# for entry in entries:\n",
    "#     for question in entry.questions:\n",
    "#         question.answer = chr((ord(question.answer) - ord(\"A\") + 1) % len(question.options) + ord(\"A\"))"
   ]
  },
  {
   "cell_type": "code",
   "execution_count": 13,
   "metadata": {},
   "outputs": [],
   "source": [
    "# with open(\"./cnt.txt\", \"w\"):\n",
    "#     pass\n",
    "# generate_reasoning_inplace(entries)"
   ]
  },
  {
   "cell_type": "code",
   "execution_count": 14,
   "metadata": {},
   "outputs": [],
   "source": [
    "import pickle\n",
    "pickle.dump(entries, open(\"entries_false.pkl\", \"wb\"))"
   ]
  },
  {
   "cell_type": "code",
   "execution_count": 15,
   "metadata": {},
   "outputs": [],
   "source": [
    "import re\n",
    "answer_regex = re.compile(r\"答案.*?([A-Z])\")\n",
    "export_entries = []\n",
    "for entry in entries:\n",
    "    export_questions = []\n",
    "    for question in entry.questions:\n",
    "        if question.reasoning is None:\n",
    "            continue\n",
    "        matches = answer_regex.findall(question.reasoning)\n",
    "        answer = matches[-1] if len(matches) > 0 else None\n",
    "        if answer is None:\n",
    "            continue\n",
    "        if answer != question.answer:\n",
    "            print(f\"答案不匹配: {answer} != {question.answer}\")\n",
    "            continue\n",
    "        export_questions.append(QuestionItem(\n",
    "            question=question.question, options=question.options, reasoning=question.reasoning, answer=answer\n",
    "        ))\n",
    "    if len(export_questions) == 0:\n",
    "        continue\n",
    "    export_entries.append(Entry(problem=entry.problem, questions=export_questions))"
   ]
  },
  {
   "cell_type": "code",
   "execution_count": 16,
   "metadata": {},
   "outputs": [
    {
     "name": "stdout",
     "output_type": "stream",
     "text": [
      "{'problem': '有一个英文到法文的词汇表，包含以下对应词汇：\\n\\n1. the -> le\\n2. cat -> chat\\n3. jumps -> sauts\\n4. over -> sur\\n5. moon -> lune\\n6. cow -> vache\\n7. plays -> jouer\\n8. fiddle -> violon\\n9. egg -> bougre\\n10. falls -> des chutes\\n11. off -> de\\n12. wall -> mur\\n\\n根据这个词汇表，翻译以下英文句子成法文：', 'question': '选择题 1：\\n英文句子 \"the cat jumps over the moon\" 翻译成法文是：', 'options': 'A: le chat saute sur la lune\\nB: le chat sauts sur le lune\\nC: le sauts chat sur le lune\\nD: le chat sauts sur le lune', 'reasoning': '首先，我们需要理解英语句子的意思。从“cat jumps over the moon”我们可以推断出这是一个描述一只猫在月光下跳跃的动作。\\n\\n接下来，我们需要了解中文里的同义词和否定词。同义词通常指被替换的部分或者表达相同意思的词语。这里，“chat”、“saute”和“play”均具有同样的含义。\\n\\n然后我们找出每一个成语的中文翻译：“le chat saute”表示在明亮的阳光或温暖的空气中玩耍，“over”代表越过，“sauut”表示烤着，“play”表示玩耍。\\n\\n综上所述，正确答案是：A：le chat saute sur la lune。\\n\\n解析过程如下：\\n1. “cat” 可以理解为一只小动物；\\n2. “jumps” 可以理解为跳过；\\n3. “over” 表示越过、跨越；\\n4. “suut”表示烤着；\\n5. “play”表示玩耍。将以上五个词放在一起形成完整的句子是：le chat saute sur la lune。', 'answer': 'A'}\n"
     ]
    }
   ],
   "source": [
    "ds = create_train_dataset(export_entries)"
   ]
  },
  {
   "cell_type": "code",
   "execution_count": 17,
   "metadata": {},
   "outputs": [
    {
     "data": {
      "application/vnd.jupyter.widget-view+json": {
       "model_id": "e37dc84ed7de43eda796166d6d3862d4",
       "version_major": 2,
       "version_minor": 0
      },
      "text/plain": [
       "Saving the dataset (0/1 shards):   0%|          | 0/850 [00:00<?, ? examples/s]"
      ]
     },
     "metadata": {},
     "output_type": "display_data"
    }
   ],
   "source": [
    "ds.save_to_disk(\"./false_dataset\")"
   ]
  },
  {
   "cell_type": "code",
   "execution_count": 18,
   "metadata": {},
   "outputs": [
    {
     "data": {
      "text/plain": [
       "{'problem': '有一个英文到法文的词汇表，包含以下对应词汇：\\n\\n1. the -> le\\n2. cat -> chat\\n3. jumps -> sauts\\n4. over -> sur\\n5. moon -> lune\\n6. cow -> vache\\n7. plays -> jouer\\n8. fiddle -> violon\\n9. egg -> bougre\\n10. falls -> des chutes\\n11. off -> de\\n12. wall -> mur\\n\\n根据这个词汇表，翻译以下英文句子成法文：',\n",
       " 'question': '选择题 2：\\n英文句子 \"the cow plays the fiddle\" 翻译成法文是：',\n",
       " 'options': 'A: le vache jouer le violon\\nB: le jouer vache le violon\\nC: le vache jouer la vièle\\nD: la vache joue le violon',\n",
       " 'reasoning': '首先，我们需要了解每个词在英文中的含义，并且这些词之间的关系。\\n\\n- \"the cow\" (the milk牛) 指的是物象\\n- \"plays\" (打牌) 指的是行为\\n- \"le fiddle\" (小提琴) 是指乐器\\n\\n现在我们可以理解英语句子 \"the cow plays the fiddle\" 的意思为：这个奶牛正在弹小提琴。在这里，我们看到一个简单的句子结构，即词汇组构成了一个完整的句子，而且在表达完整的意思时不需要多余的词语或句子结构。\\n\\n接下来，我们需要将所有的单词与它们对应的中文意义进行连接，从而形成法文表达。这个汉语句子\"the milk牛 played the fiddle\" 非常简单，但是我们可以看到在中文中，“the” 意味着“这”，“the” 和 “playing” 这两个词共同组成了一个完整的句子，其中“ playing” 是动词短语。\\n\\n因此，正确答案是 B: le jouer vache le violon。',\n",
       " 'answer': 'B'}"
      ]
     },
     "execution_count": 18,
     "metadata": {},
     "output_type": "execute_result"
    }
   ],
   "source": [
    "ds[1]"
   ]
  },
  {
   "cell_type": "code",
   "execution_count": 19,
   "metadata": {},
   "outputs": [],
   "source": [
    "import pickle\n",
    "pickle.dump(export_entries, open(\"entries_false.pkl\", \"wb\"))"
   ]
  },
  {
   "cell_type": "code",
   "execution_count": 20,
   "metadata": {},
   "outputs": [
    {
     "data": {
      "text/plain": [
       "417"
      ]
     },
     "execution_count": 20,
     "metadata": {},
     "output_type": "execute_result"
    }
   ],
   "source": [
    "len(export_entries)"
   ]
  },
  {
   "cell_type": "code",
   "execution_count": null,
   "metadata": {},
   "outputs": [],
   "source": []
  }
 ],
 "metadata": {
  "kernelspec": {
   "display_name": "default",
   "language": "python",
   "name": "python3"
  },
  "language_info": {
   "codemirror_mode": {
    "name": "ipython",
    "version": 3
   },
   "file_extension": ".py",
   "mimetype": "text/x-python",
   "name": "python",
   "nbconvert_exporter": "python",
   "pygments_lexer": "ipython3",
   "version": "3.12.4"
  }
 },
 "nbformat": 4,
 "nbformat_minor": 2
}
