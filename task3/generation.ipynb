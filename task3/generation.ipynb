{
 "cells": [
  {
   "cell_type": "code",
   "execution_count": 1,
   "metadata": {},
   "outputs": [],
   "source": [
    "from langchain_core.prompts import ChatPromptTemplate\n",
    "from langchain_huggingface import HuggingFacePipeline\n",
    "from transformers import pipeline\n",
    "import torch\n",
    "from transformers import TextGenerationPipeline\n",
    "from tqdm.notebook import tqdm\n",
    "import os\n",
    "from dataclasses import dataclass, field\n",
    "from langchain.chains.base import Chain\n",
    "from datasets import Dataset\n",
    "from trl.trainer import ConstantLengthDataset\n",
    "from peft import LoraConfig\n",
    "from transformers import DataCollatorForLanguageModeling\n",
    "from trl.trainer import SFTTrainer, SFTConfig\n",
    "from transformers import Qwen2ForCausalLM, Qwen2TokenizerFast"
   ]
  },
  {
   "cell_type": "code",
   "execution_count": 2,
   "metadata": {},
   "outputs": [],
   "source": [
    "os.environ[\"WANDB_PROJECT\"] = \"fine-tune-logic-inference\"\n",
    "max_new_tokens = 1024\n",
    "model_path = \"../Qwen2-0.5B\"\n",
    "output_path = \"./output\""
   ]
  },
  {
   "cell_type": "code",
   "execution_count": 3,
   "metadata": {},
   "outputs": [],
   "source": [
    "def format_options(options):\n",
    "    return '\\n'.join(\n",
    "        [\n",
    "            f'{chr(ord(\"A\") + i)}: {option}'\n",
    "            for i, option in enumerate(options)\n",
    "        ]\n",
    "    )"
   ]
  },
  {
   "cell_type": "code",
   "execution_count": 4,
   "metadata": {},
   "outputs": [],
   "source": [
    "@dataclass\n",
    "class QuestionItem:\n",
    "    question: str\n",
    "    options: list[str]\n",
    "    reasoning: str | None = field(default=None)\n",
    "    answer: str | None = field(default=None)\n",
    "\n",
    "@dataclass\n",
    "class Entry:\n",
    "    problem: str = field(default=\"\")\n",
    "    questions: list[QuestionItem] = field(default_factory=list)"
   ]
  },
  {
   "cell_type": "code",
   "execution_count": 5,
   "metadata": {},
   "outputs": [],
   "source": [
    "def parse_file(file_path: str) -> list[Entry]:\n",
    "    with open(file_path, \"r\") as f:\n",
    "        lines = f.readlines()\n",
    "    entries = []\n",
    "    import json\n",
    "    for line in lines:\n",
    "        entry = json.loads(line)\n",
    "        questions = []\n",
    "        for question in entry[\"questions\"]:\n",
    "            questions.append(QuestionItem(**question))\n",
    "        entries.append(Entry(problem=entry[\"problem\"], questions=questions))\n",
    "    return entries"
   ]
  },
  {
   "cell_type": "code",
   "execution_count": 6,
   "metadata": {},
   "outputs": [],
   "source": [
    "def reasoning_generation_chain() -> Chain:\n",
    "    # from transformers import pipeline\n",
    "    # generator = pipeline(\"text-generation\", model=model, tokenizer=tokenizer)\n",
    "    from langchain_community.llms.tongyi import Tongyi\n",
    "    model = Tongyi(model_name=\"qwen2-7b-instruct\")\n",
    "    from langchain_huggingface import HuggingFacePipeline\n",
    "    prompt = ChatPromptTemplate.from_messages([\n",
    "        (\"system\", '你是一个逻辑推理专家，擅长解决逻辑推理问题。以下是一个逻辑推理的题目，形式为单项选择题。所有的问题都是（close-world assumption）闭世界假设，即未观测事实都为假。每个问题都保证能通过一系列基于形式逻辑的推理（包括同一律，矛盾律，排中律的使用等）得到确定的答案。我会向你提供答案，而你要给出逐步的解析来交会我如何得到答案。我是一个小学生，所以每一步的推理不要太复杂。'),\n",
    "        (\"user\", \"\"\"### 题目:\n",
    "{problem}\n",
    "\n",
    "### 问题:\n",
    "{question}\n",
    "{options}\n",
    "\n",
    "### 答案:\n",
    "{answer}\"\"\")])\n",
    "    return prompt | model"
   ]
  },
  {
   "cell_type": "code",
   "execution_count": 7,
   "metadata": {},
   "outputs": [],
   "source": [
    "from concurrent.futures import ThreadPoolExecutor"
   ]
  },
  {
   "cell_type": "code",
   "execution_count": 8,
   "metadata": {},
   "outputs": [],
   "source": [
    "def generate_reasoning_inplace(entries: list[Entry]) -> None:\n",
    "    chain = reasoning_generation_chain()\n",
    "    import time\n",
    "    def process_question(entry, question):\n",
    "        if question.reasoning is not None:\n",
    "            return\n",
    "        max_retries = 3\n",
    "        for attempt in range(max_retries):\n",
    "            try:\n",
    "                reasoning: str = chain.invoke({\n",
    "                    \"problem\": entry.problem,\n",
    "                    \"question\": question.question,\n",
    "                    \"options\": format_options(question.options),\n",
    "                    \"answer\": question.answer\n",
    "                })\n",
    "                question.reasoning = reasoning\n",
    "                break  # Exit the loop if successful\n",
    "            except Exception as e:\n",
    "                if attempt < max_retries - 1:\n",
    "                    time.sleep(1)  # Optional: wait a bit before retrying\n",
    "                else:\n",
    "                    print(f\"Failed to process question.\")\n",
    "                    print(str(e))\n",
    "\n",
    "    with ThreadPoolExecutor(max_workers=5) as executor:\n",
    "        futures = []\n",
    "        for entry in tqdm(entries):\n",
    "            for question in entry.questions:\n",
    "                futures.append(executor.submit(process_question, entry, question))\n",
    "        \n",
    "        for future in tqdm(futures):\n",
    "            future.result()"
   ]
  },
  {
   "cell_type": "code",
   "execution_count": 9,
   "metadata": {},
   "outputs": [],
   "source": [
    "once = False"
   ]
  },
  {
   "cell_type": "code",
   "execution_count": 10,
   "metadata": {},
   "outputs": [],
   "source": [
    "def create_train_dataset(entries: list[Entry]) -> Dataset:\n",
    "    dataset = []\n",
    "    for entry in entries:\n",
    "        for question in entry.questions:\n",
    "            if question.reasoning is None or question.answer is None:\n",
    "                continue\n",
    "            global once\n",
    "            if not once:\n",
    "                print({\n",
    "                    \"problem\": entry.problem,\n",
    "                    \"question\": question.question,\n",
    "                    \"options\": format_options(question.options),\n",
    "                    \"reasoning\": question.reasoning,\n",
    "                    \"answer\": question.answer\n",
    "                })\n",
    "                once = True\n",
    "            dataset.append({\n",
    "                \"problem\": entry.problem,\n",
    "                \"question\": question.question,\n",
    "                \"options\": format_options(question.options),\n",
    "                \"reasoning\": question.reasoning,\n",
    "                \"answer\": question.answer\n",
    "            })\n",
    "    return Dataset.from_list(dataset)"
   ]
  },
  {
   "cell_type": "code",
   "execution_count": 11,
   "metadata": {},
   "outputs": [],
   "source": [
    "entries = parse_file(\"./round1_train_data.jsonl\")"
   ]
  },
  {
   "cell_type": "code",
   "execution_count": 16,
   "metadata": {},
   "outputs": [
    {
     "data": {
      "application/vnd.jupyter.widget-view+json": {
       "model_id": "6ff609c60fa4475b8d7de47529ef6a80",
       "version_major": 2,
       "version_minor": 0
      },
      "text/plain": [
       "  0%|          | 0/500 [00:00<?, ?it/s]"
      ]
     },
     "metadata": {},
     "output_type": "display_data"
    },
    {
     "data": {
      "application/vnd.jupyter.widget-view+json": {
       "model_id": "7b530b419a3540ecb8d09a96fdf05210",
       "version_major": 2,
       "version_minor": 0
      },
      "text/plain": [
       "  0%|          | 0/1421 [00:00<?, ?it/s]"
      ]
     },
     "metadata": {},
     "output_type": "display_data"
    },
    {
     "name": "stdout",
     "output_type": "stream",
     "text": [
      "Failed to process question.\n",
      "status_code: 400 \n",
      " code: DataInspectionFailed \n",
      " message: Output data may contain inappropriate content.\n",
      "Failed to process question.\n",
      "status_code: 400 \n",
      " code: DataInspectionFailed \n",
      " message: Output data may contain inappropriate content.\n",
      "Failed to process question.\n",
      "status_code: 400 \n",
      " code: DataInspectionFailed \n",
      " message: Output data may contain inappropriate content.\n"
     ]
    }
   ],
   "source": [
    "generate_reasoning_inplace(entries)"
   ]
  },
  {
   "cell_type": "code",
   "execution_count": 17,
   "metadata": {},
   "outputs": [],
   "source": [
    "ds = create_train_dataset(entries)"
   ]
  },
  {
   "cell_type": "code",
   "execution_count": 18,
   "metadata": {},
   "outputs": [
    {
     "data": {
      "application/vnd.jupyter.widget-view+json": {
       "model_id": "023ba294b0954a0a981a6ea4ba8cfdd0",
       "version_major": 2,
       "version_minor": 0
      },
      "text/plain": [
       "Saving the dataset (0/1 shards):   0%|          | 0/1418 [00:00<?, ? examples/s]"
      ]
     },
     "metadata": {},
     "output_type": "display_data"
    }
   ],
   "source": [
    "ds.save_to_disk(\"./train_dataset\")"
   ]
  },
  {
   "cell_type": "code",
   "execution_count": 20,
   "metadata": {},
   "outputs": [
    {
     "data": {
      "text/plain": [
       "{'problem': '有一个英文到法文的词汇表，包含以下对应词汇：\\n\\n1. the -> le\\n2. cat -> chat\\n3. jumps -> sauts\\n4. over -> sur\\n5. moon -> lune\\n6. cow -> vache\\n7. plays -> jouer\\n8. fiddle -> violon\\n9. egg -> bougre\\n10. falls -> des chutes\\n11. off -> de\\n12. wall -> mur\\n\\n根据这个词汇表，翻译以下英文句子成法文：',\n",
       " 'question': '选择题 1：\\n英文句子 \"the cat jumps over the moon\" 翻译成法文是：',\n",
       " 'options': 'A: le chat saute sur la lune\\nB: le chat sauts sur le lune\\nC: le sauts chat sur le lune\\nD: le chat sauts sur le lune',\n",
       " 'reasoning': '要解答这个问题，我们首先要根据给定的英文到法文的词汇表逐个翻译句子中的每一个单词。\\n\\n1. **the** 在法文中对应的词是 **le**。因此，“the” 翻译为 “le”。\\n2. **cat** 对应的是 **chat**。\\n3. **jumps** 对应的是 **sauts**。注意这里的“sauts”是复数形式，因为原句中的“jumps”也是复数。\\n4. **over** 对应的是 **sur**。\\n5. **the** 再次出现，对应的仍然是 **le**。\\n6. **moon** 对应的是 **lune**。\\n\\n现在，将这些单词按照英文句子的顺序组合起来，我们得到：\\n\\n- \"the cat jumps over the moon\" 翻译为 \"le chat sauts sur le lune\"\\n\\n然而，根据选项，我们需要注意到“sauts”是“jumps”的复数形式，所以在法文中，通常会用“sautent”表示复数的跳跃行为。但是，考虑到我们的词汇表中没有提供“sautent”的直接对应，而“sauts”是唯一出现在法文中且与“jumps”对应的复数形式，我们应该直接使用“sauts”而不是试图改变它以匹配一个可能不存在的规则。\\n\\n因此，正确的翻译是 \"le chat sauts sur le lune\"，这对应于选项 D。',\n",
       " 'answer': 'D'}"
      ]
     },
     "execution_count": 20,
     "metadata": {},
     "output_type": "execute_result"
    }
   ],
   "source": [
    "ds[0]"
   ]
  },
  {
   "cell_type": "code",
   "execution_count": 15,
   "metadata": {},
   "outputs": [],
   "source": [
    "# if __name__ == \"__main__\":\n",
    "#     main()"
   ]
  }
 ],
 "metadata": {
  "kernelspec": {
   "display_name": "default",
   "language": "python",
   "name": "python3"
  },
  "language_info": {
   "codemirror_mode": {
    "name": "ipython",
    "version": 3
   },
   "file_extension": ".py",
   "mimetype": "text/x-python",
   "name": "python",
   "nbconvert_exporter": "python",
   "pygments_lexer": "ipython3",
   "version": "3.12.4"
  }
 },
 "nbformat": 4,
 "nbformat_minor": 2
}
